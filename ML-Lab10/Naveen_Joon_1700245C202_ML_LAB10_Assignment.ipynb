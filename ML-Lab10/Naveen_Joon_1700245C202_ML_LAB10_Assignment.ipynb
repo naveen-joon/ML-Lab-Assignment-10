{
 "cells": [
  {
   "cell_type": "markdown",
   "metadata": {},
   "source": [
    "Problem Statement 1"
   ]
  },
  {
   "cell_type": "code",
   "execution_count": 34,
   "metadata": {},
   "outputs": [
    {
     "name": "stdout",
     "output_type": "stream",
     "text": [
      "Probability =  0.21691\n"
     ]
    }
   ],
   "source": [
    "import random\n",
    "massDist = (0.2,0.4,0.1,0.1,0.1,0.1)\n",
    "def roll(massDist):\n",
    "    randRoll = random.random() # in [0,1]\n",
    "    sum = 0\n",
    "    result = 1\n",
    "    for mass in massDist:\n",
    "        sum += mass\n",
    "        if randRoll < sum:\n",
    "            return result\n",
    "        result+=1\n",
    "\n",
    "def dice(massDict):\n",
    "    step = 0;\n",
    "    numstep = 0;\n",
    "    for i in range(100000):\n",
    "        for i in range(250):\n",
    "            result = roll(massDict)\n",
    "            # print(\"You rolled\",result)\n",
    "        if result==1 or result==2: step=max(0,step-1)\n",
    "        elif result>=3 and result<=5: step=step+1\n",
    "        else: \n",
    "            result1 = roll(massDict)\n",
    "            step=step+result1\n",
    "        if step>60: numstep=numstep+1\n",
    "    return numstep\n",
    "\n",
    "numstep = dice(massDist)\n",
    "print(\"Probability = \",numstep/100000)"
   ]
  },
  {
   "cell_type": "markdown",
   "metadata": {},
   "source": [
    "Problem Statement 2"
   ]
  },
  {
   "cell_type": "markdown",
   "metadata": {},
   "source": [
    "Random Data for Linear Regression"
   ]
  },
  {
   "cell_type": "code",
   "execution_count": 35,
   "metadata": {},
   "outputs": [
    {
     "name": "stdout",
     "output_type": "stream",
     "text": [
      "         X0        X1        X2        X3         Y\n",
      "0 -0.381628  1.197031  0.929858 -1.554308  0.940842\n",
      "1  0.136436 -1.233528  0.410580  1.138531  0.965800\n",
      "2  0.018444  0.100027 -0.586007 -0.134705  1.095683\n",
      "3  0.402928  0.921435  0.290072 -1.476784  0.912180\n",
      "4 -0.155967 -0.020985  1.660527 -1.316407  0.822326\n",
      "          X0        X1        X2        X3         Y\n",
      "95  0.017886  0.755963  0.926295  1.140623  2.286016\n",
      "96  1.758766  0.412127  0.003410  0.259682  1.921530\n",
      "97 -0.695840 -0.472389 -0.103946 -0.152054  0.234136\n",
      "98  0.362451 -0.226238 -1.234896  0.523522  0.886967\n",
      "99  1.020785  2.351176  1.339573  0.139454  3.456115\n",
      "<class 'pandas.core.frame.DataFrame'>\n",
      "RangeIndex: 100 entries, 0 to 99\n",
      "Data columns (total 5 columns):\n",
      "X0    100 non-null float64\n",
      "X1    100 non-null float64\n",
      "X2    100 non-null float64\n",
      "X3    100 non-null float64\n",
      "Y     100 non-null float64\n",
      "dtypes: float64(5)\n",
      "memory usage: 4.0 KB\n",
      "None\n",
      "               X0          X1          X2          X3           Y\n",
      "count  100.000000  100.000000  100.000000  100.000000  100.000000\n",
      "mean     0.006177    0.017036   -0.091310    0.256152    1.114653\n",
      "std      0.906718    0.964912    0.930681    0.960137    0.786099\n",
      "min     -2.391797   -2.113601   -1.898774   -2.715246   -0.788723\n",
      "25%     -0.445610   -0.537697   -0.853984   -0.370086    0.631592\n",
      "50%      0.018165   -0.018553   -0.165377    0.284376    1.097755\n",
      "75%      0.484436    0.663396    0.537970    0.931879    1.638853\n",
      "max      2.180023    2.619097    2.009441    3.053817    3.456115\n"
     ]
    }
   ],
   "source": [
    "import numpy as np\n",
    "import pandas as pd\n",
    "import scipy\n",
    "import random\n",
    "from scipy.stats import norm\n",
    "random.seed(1)\n",
    "n_features = 4\n",
    "X = []\n",
    "for i in range(n_features):\n",
    "    X_i = scipy.stats.norm.rvs(0, 1, 100)\n",
    "    X.append(X_i)\n",
    "#print(X)\n",
    "eps = scipy.stats.norm.rvs(0, 0.25,100)\n",
    "y = 1 + (0.4 * X[0]) + eps + (0.5 * X[1]) + (0.3 * X[2]) + (0.4 * X[3])\n",
    "data_mlr = {'X0': X[0],'X1':X[1],'X2':X[2],'X3':X[3],'Y': y }\n",
    "df = pd.DataFrame(data_mlr)\n",
    "print(df.head())\n",
    "print(df.tail())\n",
    "print(df.info())\n",
    "print(df.describe())\n",
    "#df.to_csv('file1.csv') - from this statement we can generate it to csv format"
   ]
  },
  {
   "cell_type": "markdown",
   "metadata": {},
   "source": [
    "Random Data for Logistic Regression"
   ]
  },
  {
   "cell_type": "code",
   "execution_count": 5,
   "metadata": {},
   "outputs": [
    {
     "name": "stdout",
     "output_type": "stream",
     "text": [
      "         X0        X1        X2        X3  Y\n",
      "0  0.504857 -0.055427  0.227699 -0.947237  1\n",
      "1 -1.586259  1.453189 -0.726366 -0.476809  1\n",
      "2  0.470961  0.591235 -0.314390  1.407829  1\n",
      "3  0.306974  0.166083  1.070944  0.532603  1\n",
      "4 -0.562862 -1.179548  1.953966  0.104510  1\n",
      "          X0        X1        X2        X3  Y\n",
      "95 -0.150128  1.564942  0.521429  0.698388  1\n",
      "96  0.575497 -1.176935  0.607625  1.193475  1\n",
      "97 -0.569024  0.641095  1.493383  0.354178  1\n",
      "98 -0.810205 -0.180606 -1.403905 -0.109654  1\n",
      "99 -1.012058 -0.362206 -0.375748  1.922488  1\n",
      "<class 'pandas.core.frame.DataFrame'>\n",
      "RangeIndex: 100 entries, 0 to 99\n",
      "Data columns (total 5 columns):\n",
      "X0    100 non-null float64\n",
      "X1    100 non-null float64\n",
      "X2    100 non-null float64\n",
      "X3    100 non-null float64\n",
      "Y     100 non-null int64\n",
      "dtypes: float64(4), int64(1)\n",
      "memory usage: 4.0 KB\n",
      "None\n",
      "               X0          X1          X2          X3           Y\n",
      "count  100.000000  100.000000  100.000000  100.000000  100.000000\n",
      "mean    -0.192157    0.058505    0.024572    0.087124    0.870000\n",
      "std      0.870556    0.983164    0.965046    1.031105    0.337998\n",
      "min     -2.375061   -2.573722   -3.132826   -2.944210    0.000000\n",
      "25%     -0.828587   -0.633177   -0.491558   -0.599309    1.000000\n",
      "50%     -0.189187    0.060952   -0.137572    0.018042    1.000000\n",
      "75%      0.393047    0.745554    0.699558    0.725458    1.000000\n",
      "max      1.593962    2.374504    2.858560    2.547933    1.000000\n"
     ]
    }
   ],
   "source": [
    "n_features = 4\n",
    "X = []\n",
    "for i in range(n_features):\n",
    "  X_i = scipy.stats.norm.rvs(0, 1, 100)\n",
    "  X.append(X_i)\n",
    "#print(X)\n",
    "a1 = (np.exp(1 + (0.5 * X[0]) + (0.4 * X[1]) + (0.3 * X[2]) + (0.5 * X[3]))/(1 + np.exp(1 + (0.5 * X[0]) + (0.4 * X[1]) + (0.3 * X[2]) + (0.5 * X[3]))))\n",
    "#print(a1)\n",
    "y1 = []\n",
    "for i in a1:\n",
    "  if (i>=0.5):\n",
    "    y1.append(1)\n",
    "  else:\n",
    "    y1.append(0)\n",
    "#print(y1)\n",
    "data_lr = {'X0': X[0],'X1':X[1],'X2':X[2],'X3':X[3],'Y': y1 }\n",
    "df1 = pd.DataFrame(data_lr)\n",
    "print(df1.head())\n",
    "print(df1.tail())\n",
    "print(df1.info())\n",
    "print(df1.describe())"
   ]
  },
  {
   "cell_type": "markdown",
   "metadata": {},
   "source": [
    "Random Data for K means Clustering"
   ]
  },
  {
   "cell_type": "code",
   "execution_count": 28,
   "metadata": {},
   "outputs": [
    {
     "data": {
      "image/png": "[encoded data removed]",
      "text/plain": [
       "<Figure size 432x288 with 1 Axes>"
      ]
     },
     "metadata": {
      "needs_background": "light"
     },
     "output_type": "display_data"
    }
   ],
   "source": [
    "from matplotlib import pyplot\n",
    "from pandas import DataFrame\n",
    "from sklearn.datasets import make_blobs\n",
    "# generate 2d classification dataset\n",
    "X3, y3 = make_blobs(n_samples=100, centers=3, n_features=2)\n",
    "# scatter plot, dots colored by class value\n",
    "df = DataFrame(dict(x=X3[:,0], y=X3[:,1], label=y3))\n",
    "colors = {0:'red', 1:'blue', 2:'green'}\n",
    "fig, ax = pyplot.subplots()\n",
    "grouped = df.groupby('label')\n",
    "for key, group in grouped:\n",
    "    group.plot(ax=ax, kind='scatter', x='x', y='y', label=key, color=colors[key])\n",
    "pyplot.show()"
   ]
  },
  {
   "cell_type": "markdown",
   "metadata": {},
   "source": [
    "Problem Statement 3"
   ]
  },
  {
   "cell_type": "markdown",
   "metadata": {},
   "source": [
    "Linear Regression using gradient descent"
   ]
  },
  {
   "cell_type": "code",
   "execution_count": 8,
   "metadata": {},
   "outputs": [
    {
     "name": "stdout",
     "output_type": "stream",
     "text": [
      "0.12033042925103404 0.21254722703720827\n"
     ]
    }
   ],
   "source": [
    "X = df.iloc[:,0].values\n",
    "# print(X)\n",
    "y = df.iloc[:,4].values\n",
    "b1 = 0\n",
    "b0 = 0\n",
    "l = 0.001\n",
    "epochs = 100\n",
    " \n",
    "n = float(len(X))\n",
    "for i in range(epochs):\n",
    "  y_p = b1*X + b0\n",
    "  loss = np.sum(y_p - y1)**2\n",
    "  d1 = (-2/n) * sum(X * (y - y_p))\n",
    "  d0 = (-2/n) * sum(y - y_p)\n",
    "  b1 = b1 - (l*d1)\n",
    "  b0 = b0 - (l*d0)\n",
    "\n",
    "print(b1,b0)"
   ]
  },
  {
   "cell_type": "markdown",
   "metadata": {},
   "source": [
    "Logistic regression using Gradient descent"
   ]
  },
  {
   "cell_type": "code",
   "execution_count": 9,
   "metadata": {},
   "outputs": [
    {
     "name": "stdout",
     "output_type": "stream",
     "text": [
      "0.6931471805599453\n",
      "0.3858429083509646\n",
      "0.38530949767165595\n",
      "0.384786352217898\n",
      "0.3842733507884137\n",
      "0.3837703720146266\n",
      "0.38327729428922175\n",
      "0.38279399570346495\n",
      "0.38232035399346626\n",
      "0.38185624649550337\n"
     ]
    }
   ],
   "source": [
    "X1 = df1.iloc[:,0:4].values\n",
    "y1 = df1.iloc[:,4].values\n",
    "\n",
    "def sigmoid(Z):\n",
    "  return 1 /(1+np.exp(-Z))\n",
    "\n",
    "def loss(y1,y_hat):\n",
    "  return -np.mean(y1*np.log(y_hat) + (1-y1)*(np.log(1-y_hat)))\n",
    "\n",
    "W = np.zeros((4,1))\n",
    "b = np.zeros((1,1))\n",
    "\n",
    "m = len(y1)\n",
    "lr = 0.001\n",
    "for epoch in range(1000):\n",
    "  Z = np.matmul(X1,W)+b\n",
    "  A = sigmoid(Z)\n",
    "  logistic_loss = loss(y1,A)\n",
    "  dz = A - y1\n",
    "  dw = 1/m * np.matmul(X1.T,dz)\n",
    "  db = np.sum(dz)\n",
    "\n",
    "  W = W - lr*dw\n",
    "  b = b - lr*db\n",
    "\n",
    "  if epoch % 100 == 0:\n",
    "    print(logistic_loss)"
   ]
  },
  {
   "cell_type": "markdown",
   "metadata": {},
   "source": [
    "Linear Regreesion using L1 Regularization"
   ]
  },
  {
   "cell_type": "code",
   "execution_count": 10,
   "metadata": {},
   "outputs": [
    {
     "name": "stdout",
     "output_type": "stream",
     "text": [
      "0.11122970402666771 0.21270111626376426\n"
     ]
    }
   ],
   "source": [
    "X = df.iloc[:,0].values\n",
    "#print(X)\n",
    "y = df.iloc[:,4].values\n",
    "b1 = 0\n",
    "b0 = 0\n",
    "l = 0.001\n",
    "epochs = 100\n",
    "lam = 0.1\n",
    " \n",
    "n = float(len(X))\n",
    "for i in range(epochs):\n",
    "  y_p = b1*X + b0\n",
    "  loss = np.sum(y_p - y1)**2 + (lam * b1)\n",
    "  d1 = (-2/n) * sum(X * (y - y_p)) + lam\n",
    "  d0 = (-2/n) * sum(y - y_p)\n",
    "  b1 = b1 - (l*d1)\n",
    "  b0 = b0 - (l*d0)\n",
    "\n",
    "print(b1,b0)"
   ]
  },
  {
   "cell_type": "markdown",
   "metadata": {},
   "source": [
    "Linear Regreesion using L2 Regularization"
   ]
  },
  {
   "cell_type": "code",
   "execution_count": 11,
   "metadata": {},
   "outputs": [
    {
     "name": "stdout",
     "output_type": "stream",
     "text": [
      "0.11974924597113544 0.21255386283551186\n"
     ]
    }
   ],
   "source": [
    "#print(X)\n",
    "y = df.iloc[:,4].values\n",
    "b1 = 0\n",
    "b0 = 0\n",
    "l = 0.001\n",
    "epochs = 100\n",
    "lam = 0.1\n",
    " \n",
    "n = float(len(X))\n",
    "for i in range(epochs):\n",
    "  y_p = b1*X + b0\n",
    "  loss = np.sum(y_p - y1)**2 + ((lam/2) * b1)\n",
    "  d1 = (-2/n) * sum(X * (y - y_p)) + (lam *b1)\n",
    "  d0 = (-2/n) * sum(y - y_p)\n",
    "  b1 = b1 - (l*d1)\n",
    "  b0 = b0 - (l*d0)\n",
    "\n",
    "print(b1,b0)"
   ]
  },
  {
   "cell_type": "markdown",
   "metadata": {},
   "source": [
    "Logistic regression using L1 regualrization"
   ]
  },
  {
   "cell_type": "code",
   "execution_count": 12,
   "metadata": {},
   "outputs": [
    {
     "name": "stdout",
     "output_type": "stream",
     "text": [
      "0.6931471805599453\n",
      "-0.012126098265757224\n",
      "-0.4064238509057354\n",
      "-0.7965907889663033\n",
      "-1.1826694640689903\n",
      "-1.5647031911633091\n",
      "-1.9427359777929496\n",
      "-2.3168124549435705\n",
      "-2.6869778095293464\n",
      "-3.0532777185729048\n"
     ]
    }
   ],
   "source": [
    "X1 = df1.iloc[:,0:4].values\n",
    "y1 = df1.iloc[:,4].values\n",
    "lam = 0.1\n",
    "def sigmoid(Z):\n",
    "  return 1 /(1+np.exp(-Z))\n",
    "\n",
    "def loss(y1,y_hat):\n",
    "  return -np.mean(y1*np.log(y_hat) + (1-y1)*(np.log(1-y_hat))) + (lam * (np.sum(W)))\n",
    "\n",
    "W = np.zeros((4,1))\n",
    "b = np.zeros((1,1))\n",
    "\n",
    "m = len(y1)\n",
    "lr = 0.001\n",
    "for epoch in range(1000):\n",
    "  Z = np.matmul(X1,W)+b\n",
    "  A = sigmoid(Z)\n",
    "  logistic_loss = loss(y1,A)\n",
    "  dz = A - y1\n",
    "  dw = 1/m * np.matmul(X1.T,dz) + lam\n",
    "  db = np.sum(dz)\n",
    "\n",
    "  W = W - lr*dw\n",
    "  b = b - lr*db\n",
    "\n",
    "  if epoch % 100 == 0:\n",
    "    print(logistic_loss)"
   ]
  },
  {
   "cell_type": "markdown",
   "metadata": {},
   "source": [
    "Logistic regression using L2 regualrization"
   ]
  },
  {
   "cell_type": "code",
   "execution_count": 13,
   "metadata": {},
   "outputs": [
    {
     "name": "stdout",
     "output_type": "stream",
     "text": [
      "0.6931471805599453\n",
      "0.3863840673405913\n",
      "0.38743223327809967\n",
      "0.38947015016341324\n",
      "0.3924392173930635\n",
      "0.39628322637877567\n",
      "0.400948284924234\n",
      "0.40638274378174866\n",
      "0.4125371252591498\n",
      "0.41936405375954267\n"
     ]
    }
   ],
   "source": [
    "X1 = df1.iloc[:,0:4].values\n",
    "y1 = df1.iloc[:,4].values\n",
    "lam = 0.1\n",
    "def sigmoid(Z):\n",
    "  return 1 /(1+np.exp(-Z))\n",
    "\n",
    "def loss(y1,y_hat):\n",
    "  return -np.mean(y1*np.log(y_hat) + (1-y1)*(np.log(1-y_hat))) + (lam * (np.sum(np.square(W))))\n",
    "\n",
    "W = np.zeros((4,1))\n",
    "b = np.zeros((1,1))\n",
    "\n",
    "m = len(y1)\n",
    "lr = 0.001\n",
    "for epoch in range(1000):\n",
    "  Z = np.matmul(X1,W)+b\n",
    "  A = sigmoid(Z)\n",
    "  logistic_loss = loss(y1,A)\n",
    "  dz = A - y1\n",
    "  dw = 1/m * np.matmul(X1.T,dz) + lam * W\n",
    "  db = np.sum(dz)\n",
    "\n",
    "  W = W - lr*dw\n",
    "  b = b - lr*db\n",
    "\n",
    "  if epoch % 100 == 0:\n",
    "    print(logistic_loss)"
   ]
  },
  {
   "cell_type": "markdown",
   "metadata": {},
   "source": [
    "K Means Clustering Algorithm"
   ]
  },
  {
   "cell_type": "code",
   "execution_count": 30,
   "metadata": {},
   "outputs": [],
   "source": [
    "class K_Means:\n",
    "    def __init__(self, k=2, tol=0.001, max_iter=300):\n",
    "        self.k = k\n",
    "        self.tol = tol\n",
    "        self.max_iter = max_iter\n",
    "\n",
    "    def fit(self,data):\n",
    "\n",
    "        self.centroids = {}\n",
    "\n",
    "        for i in range(self.k):\n",
    "            self.centroids[i] = data[i]\n",
    "\n",
    "        for i in range(self.max_iter):\n",
    "            self.classifications = {}\n",
    "\n",
    "            for i in range(self.k):\n",
    "                self.classifications[i] = []\n",
    "\n",
    "            for featureset in data:\n",
    "                distances = [np.linalg.norm(featureset-self.centroids[centroid]) for centroid in self.centroids]\n",
    "                classification = distances.index(min(distances))\n",
    "                self.classifications[classification].append(featureset)\n",
    "\n",
    "            prev_centroids = dict(self.centroids)\n",
    "\n",
    "            for classification in self.classifications:\n",
    "                self.centroids[classification] = np.average(self.classifications[classification],axis=0)\n",
    "\n",
    "            optimized = True\n",
    "\n",
    "            for c in self.centroids:\n",
    "                original_centroid = prev_centroids[c]\n",
    "                current_centroid = self.centroids[c]\n",
    "                if np.sum((current_centroid-original_centroid)/original_centroid*100.0) > self.tol:\n",
    "                    print(np.sum((current_centroid-original_centroid)/original_centroid*100.0))\n",
    "                    optimized = False\n",
    "\n",
    "            if optimized:\n",
    "                break\n",
    "\n",
    "    def predict(self,data):\n",
    "        distances = [np.linalg.norm(data-self.centroids[centroid]) for centroid in self.centroids]\n",
    "        classification = distances.index(min(distances))\n",
    "        return classification"
   ]
  },
  {
   "cell_type": "code",
   "execution_count": 31,
   "metadata": {},
   "outputs": [
    {
     "name": "stdout",
     "output_type": "stream",
     "text": [
      "557.5985795711925\n",
      "12.951464772499016\n",
      "4.31199051407958\n"
     ]
    }
   ],
   "source": [
    "clf = K_Means()\n",
    "clf.fit(X3)"
   ]
  },
  {
   "cell_type": "code",
   "execution_count": 32,
   "metadata": {},
   "outputs": [
    {
     "name": "stdout",
     "output_type": "stream",
     "text": [
      "0.67\n"
     ]
    }
   ],
   "source": [
    "correct = 0\n",
    "for i in range(len(X3)):\n",
    "    predict_me = np.array(X3[i].astype(float))\n",
    "    predict_me = predict_me.reshape(-1, len(predict_me))\n",
    "    prediction = clf.predict(predict_me)\n",
    "    if prediction == y3[i]:\n",
    "        correct += 1\n",
    "print(correct/len(X3))"
   ]
  },
  {
   "cell_type": "markdown",
   "metadata": {},
   "source": [
    "Problem Statement 4"
   ]
  },
  {
   "cell_type": "markdown",
   "metadata": {},
   "source": [
    "Linear Regression from scratch using OOPS"
   ]
  },
  {
   "cell_type": "code",
   "execution_count": null,
   "metadata": {},
   "outputs": [],
   "source": [
    "import numpy as np\n",
    "\n",
    "class LinearRegressionModel():\n",
    "\n",
    "    def __init__(self, dataset, learning_rate, num_iterations):\n",
    "        self.dataset = np.array(dataset)\n",
    "        self.b = 0  \n",
    "        self.m = 0  \n",
    "        self.learning_rate = learning_rate\n",
    "        self.num_iterations = num_iterations\n",
    "        self.M = len(self.dataset)\n",
    "        self.total_error = 0\n",
    "\n",
    "    def apply_gradient_descent(self):\n",
    "        for i in range(self.num_iterations):\n",
    "            self.do_gradient_step()\n",
    "\n",
    "    def do_gradient_step(self):\n",
    "        b_summation = 0\n",
    "        m_summation = 0\n",
    "        for i in range(self.M):\n",
    "            x_value = self.dataset[i, 0]\n",
    "            y_value = self.dataset[i, 1]\n",
    "            b_summation += (((self.m * x_value) + self.b) - y_value) \n",
    "            m_summation += (((self.m * x_value) + self.b) - y_value) * x_value\n",
    "        self.b = self.b - (self.learning_rate * (1/self.M) * b_summation)\n",
    "        self.m = self.m - (self.learning_rate * (1/self.M) * m_summation)\n",
    "      \n",
    "    def compute_error(self):\n",
    "        for i in range(self.M):\n",
    "            x_value = self.dataset[i, 0]\n",
    "            y_value = self.dataset[i, 1]\n",
    "            self.total_error += ((self.m * x_value) + self.b) - y_value\n",
    "        return self.total_error\n",
    "\n",
    "    def __str__(self):\n",
    "        return \"Results: b: {}, m: {}, Final Total error: {}\".format(round(self.b, 2), round(self.m, 2), round(self.compute_error(), 2))\n",
    "\n",
    "    def get_prediction_based_on(self, x):\n",
    "        return round(float((self.m * x) + self.b), 2) # Type: Numpy float.\n",
    "def main():\n",
    "    school_dataset = np.genfromtxt(DATASET_PATH, delimiter=\",\")\n",
    "    lr = LinearRegressionModel(school_dataset, 0.0001, 1000)\n",
    "    lr.apply_gradient_descent()\n",
    "    hours = [10, 20, 30, 40, 50, 60, 70, 80, 90, 100]\n",
    "    for hour in hours:\n",
    "        print(\"Studied {} hours and got {} points.\".format(hour, lr.get_prediction_based_on(hour)))\n",
    "    print(lr)\n",
    "\n",
    "if __name__ == \"__main__\": main()"
   ]
  },
  {
   "cell_type": "markdown",
   "metadata": {},
   "source": [
    "Logistic Regression from scratch using OOPS"
   ]
  },
  {
   "cell_type": "code",
   "execution_count": null,
   "metadata": {},
   "outputs": [],
   "source": [
    "class LogisticRegression:\n",
    "  def __init__(self, learning_rate, num_iters, fit_intercept = True, verbose = False):\n",
    "    self.learning_rate = learning_rate\n",
    "    self.num_iters = num_iters\n",
    "    self.fit_intercept = fit_intercept\n",
    "    self.verbose = verbose\n",
    "  def __add_intercept(self, X):\n",
    "    intercept = np.ones((X.shape[0],1))\n",
    "    return np.concatenate((intercept,X),axis=1)\n",
    "  def __sigmoid(self,z):\n",
    "    return 1/(1+np.exp(-z))\n",
    "  def __loss(self, h, y):\n",
    "    return (-y * np.log(h) - (1-y) * np.log(1-h)).mean()\n",
    "  \n",
    "  def fit(self,X,y):\n",
    "    if self.fit_intercept:\n",
    "      X = self.__add_intercept(X)\n",
    "    self.theta = np.zeros(X.shape[1])\n",
    "    \n",
    "    for i in range(self.num_iters):\n",
    "      z = np.dot(X,self.theta)\n",
    "      h = self.__sigmoid(z)\n",
    "      gradient = np.dot(X.T,(h-y))/y.size\n",
    "      \n",
    "      self.theta -= self.learning_rate * gradient\n",
    "      \n",
    "      z = np.dot(X,self.theta)\n",
    "      h = self.__sigmoid(z)\n",
    "      loss = self.__loss(h,y)\n",
    "      \n",
    "      if self.verbose == True and i % 1000 == 0:\n",
    "        print(f'Loss: {loss}\\t')\n",
    "  def predict_probability(self,X):\n",
    "    if self.fit_intercept:\n",
    "      X = self.__add_intercept(X)\n",
    "    return self.__sigmoid(np.dot(X,self.theta))\n",
    "  def predict(self,X):\n",
    "    return (self.predict_probability(X).round())"
   ]
  },
  {
   "cell_type": "markdown",
   "metadata": {},
   "source": [
    "K Means from scratch using OOPS"
   ]
  },
  {
   "cell_type": "code",
   "execution_count": null,
   "metadata": {},
   "outputs": [],
   "source": [
    "class K_Means:\n",
    "    def __init__(self, k=2, tol=0.001, max_iter=300):\n",
    "        self.k = k\n",
    "        self.tol = tol\n",
    "        self.max_iter = max_iter\n",
    "\n",
    "    def fit(self,data):\n",
    "\n",
    "        self.centroids = {}\n",
    "\n",
    "        for i in range(self.k):\n",
    "            self.centroids[i] = data[i]\n",
    "\n",
    "        for i in range(self.max_iter):\n",
    "            self.classifications = {}\n",
    "\n",
    "            for i in range(self.k):\n",
    "                self.classifications[i] = []\n",
    "\n",
    "            for featureset in X:\n",
    "                distances = [np.linalg.norm(featureset-self.centroids[centroid]) for centroid in self.centroids]\n",
    "                classification = distances.index(min(distances))\n",
    "                self.classifications[classification].append(featureset)\n",
    "\n",
    "            prev_centroids = dict(self.centroids)\n",
    "\n",
    "            for classification in self.classifications:\n",
    "                self.centroids[classification] = np.average(self.classifications[classification],axis=0)\n",
    "\n",
    "            optimized = True\n",
    "\n",
    "            for c in self.centroids:\n",
    "                original_centroid = prev_centroids[c]\n",
    "                current_centroid = self.centroids[c]\n",
    "                if np.sum((current_centroid-original_centroid)/original_centroid*100.0) > self.tol:\n",
    "                    print(np.sum((current_centroid-original_centroid)/original_centroid*100.0))\n",
    "                    optimized = False\n",
    "\n",
    "            if optimized:\n",
    "                break\n",
    "    def predict(self,data):\n",
    "        distances = [np.linalg.norm(data-self.centroids[centroid]) for centroid in self.centroids]\n",
    "        classification = distances.index(min(distances))\n",
    "        return classification\n",
    "        \n",
    "colors = 10*[\"g\",\"r\",\"c\",\"b\",\"k\"]"
   ]
  }
 ],
 "metadata": {
  "kernelspec": {
   "display_name": "Python 3",
   "language": "python",
   "name": "python3"
  },
  "language_info": {
   "codemirror_mode": {
    "name": "ipython",
    "version": 3
   },
   "file_extension": ".py",
   "mimetype": "text/x-python",
   "name": "python",
   "nbconvert_exporter": "python",
   "pygments_lexer": "ipython3",
   "version": "3.7.1"
  }
 },
 "nbformat": 4,
 "nbformat_minor": 2
}
