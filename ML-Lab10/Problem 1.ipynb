{
 "cells": [
  {
   "cell_type": "code",
   "execution_count": 9,
   "metadata": {},
   "outputs": [],
   "source": [
    "import numpy as np\n",
    "import random\n",
    "\n",
    "np.random.seed(1)\n",
    "\n",
    "def prob(throws, pd):\n",
    "    ans = 0\n",
    "    for x in range(100000):\n",
    "        step = 0\n",
    "        for i in range(throws):\n",
    "            dice = np.random.choice(np.arange(1, 7), p = pd)\n",
    "            if dice <= 2 :\n",
    "                step = max(0, step - 1)\n",
    "\n",
    "            elif dice<=5:\n",
    "                step += 1\n",
    "\n",
    "            else:\n",
    "                step = step + np.random.choice(np.arange(1, 7), p = pd)\n",
    "\n",
    "\n",
    "        if step > 60:\n",
    "            ans +=1\n",
    "\n",
    "    return(ans/100000)"
   ]
  },
  {
   "cell_type": "code",
   "execution_count": 10,
   "metadata": {},
   "outputs": [],
   "source": [
    "throws = 250 # Enter The Number Of Throws\n",
    "pd = [0.2,0.3,0.2,0.1,0.1,0.1] # Enter The Probability Distribution"
   ]
  },
  {
   "cell_type": "code",
   "execution_count": 11,
   "metadata": {},
   "outputs": [
    {
     "data": {
      "text/plain": [
       "0.32713"
      ]
     },
     "execution_count": 11,
     "metadata": {},
     "output_type": "execute_result"
    }
   ],
   "source": [
    "prob(throws,pd)"
   ]
  },
  {
   "cell_type": "code",
   "execution_count": null,
   "metadata": {},
   "outputs": [],
   "source": [
    "# Answer\n",
    "# For throws = 250 and pd = [1/6, 1/6, 1/6, 1/6, 1/6, 1/6] \n",
    "# The answer is approximately 1.0. Theoretically this is not possible but practically this was tested around 10 Lac Times and\n",
    "# every time the 60th step was crossed. The theoretical probability will be around 0.9999999.....\n",
    "\n",
    "# For throws = 250 and pd = [0.2, 0.3, 0.2, 0.1, 0.1, 0.1]\n",
    "# The answer is approximately 0.32713"
   ]
  }
 ],
 "metadata": {
  "kernelspec": {
   "display_name": "Python 3",
   "language": "python",
   "name": "python3"
  },
  "language_info": {
   "codemirror_mode": {
    "name": "ipython",
    "version": 3
   },
   "file_extension": ".py",
   "mimetype": "text/x-python",
   "name": "python",
   "nbconvert_exporter": "python",
   "pygments_lexer": "ipython3",
   "version": "3.7.0"
  }
 },
 "nbformat": 4,
 "nbformat_minor": 2
}
